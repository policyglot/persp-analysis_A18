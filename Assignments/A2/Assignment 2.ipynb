{
 "cells": [
  {
   "cell_type": "markdown",
   "metadata": {},
   "source": [
    "###  Question 1: Imputation"
   ]
  },
  {
   "cell_type": "code",
   "execution_count": 155,
   "metadata": {},
   "outputs": [],
   "source": [
    "#First, we import the libraries we will be using throughout this assignment.\n",
    "%matplotlib inline\n",
    "import numpy as np\n",
    "import pandas as pd\n",
    "import statsmodels.api as sm\n",
    "import matplotlib.pyplot as plt\n"
   ]
  },
  {
   "cell_type": "code",
   "execution_count": 156,
   "metadata": {},
   "outputs": [],
   "source": [
    "#Next, we input the 2 data sets as provided in the folder.\n",
    "best_df=pd.read_csv('BestIncome.txt', sep=\",\", names=['lab_inc','cap_inc', 'hgt', 'wgt'])\n",
    "survey_df=pd.read_csv('SurvIncome.txt', sep=\",\", names=['tot_inc','wgt', 'age', 'female'])\n"
   ]
  },
  {
   "cell_type": "markdown",
   "metadata": {},
   "source": [
    "We can impute the variables for gender and age based on the coefficients they receive in the regression for Survey Data. \n",
    "\n",
    "We can regress each of these variables against variables that are also present in the first dataset, namely weight and total income. Total income can be calculated as the sum of labour and capital income. Of course, this is a simplifying assumption. There may be other factor incomes such as profit and rent, but none of those variables are currently available So we will for the purposes of simplicity generate a new variable called total income in the BestIncome dataset.\n"
   ]
  },
  {
   "cell_type": "code",
   "execution_count": 157,
   "metadata": {},
   "outputs": [],
   "source": [
    "\n",
    "best_df['tot_inc']=best_df['lab_inc'] + best_df['cap_inc']"
   ]
  },
  {
   "cell_type": "markdown",
   "metadata": {},
   "source": [
    "Unfortunately, we need to do both of these separately (cannot include female in the regression for age, or vice versa) as this introduces a degree of circularity. So we may face omitted variable bias if gender was a major explanatory variable for age, or vice-versa. The resulting equations would thus be:\n",
    "\n",
    "$age_{i}$= $\\beta_{0}$+ $\\beta_{1}$*$total\\_inc_{i}$+$\\beta_{2}$*$wgt_{i}$+$\\epsilon_{i}$\n",
    "\n",
    "$female_{i}$= $\\frac{1}{1+ exp^{\\beta_{0}+ \\beta_{1}*total\\_inc_{i}+\\beta_{2}*wgt_{i}+\\epsilon_{i}}}$\n"
   ]
  },
  {
   "cell_type": "code",
   "execution_count": 158,
   "metadata": {},
   "outputs": [
    {
     "data": {
      "text/html": [
       "<table class=\"simpletable\">\n",
       "<caption>OLS Regression Results</caption>\n",
       "<tr>\n",
       "  <th>Dep. Variable:</th>           <td>age</td>       <th>  R-squared:         </th> <td>   0.001</td>\n",
       "</tr>\n",
       "<tr>\n",
       "  <th>Model:</th>                   <td>OLS</td>       <th>  Adj. R-squared:    </th> <td>  -0.001</td>\n",
       "</tr>\n",
       "<tr>\n",
       "  <th>Method:</th>             <td>Least Squares</td>  <th>  F-statistic:       </th> <td>  0.6326</td>\n",
       "</tr>\n",
       "<tr>\n",
       "  <th>Date:</th>             <td>Wed, 17 Oct 2018</td> <th>  Prob (F-statistic):</th>  <td> 0.531</td> \n",
       "</tr>\n",
       "<tr>\n",
       "  <th>Time:</th>                 <td>10:45:29</td>     <th>  Log-Likelihood:    </th> <td> -3199.4</td>\n",
       "</tr>\n",
       "<tr>\n",
       "  <th>No. Observations:</th>      <td>  1000</td>      <th>  AIC:               </th> <td>   6405.</td>\n",
       "</tr>\n",
       "<tr>\n",
       "  <th>Df Residuals:</th>          <td>   997</td>      <th>  BIC:               </th> <td>   6419.</td>\n",
       "</tr>\n",
       "<tr>\n",
       "  <th>Df Model:</th>              <td>     2</td>      <th>                     </th>     <td> </td>   \n",
       "</tr>\n",
       "<tr>\n",
       "  <th>Covariance Type:</th>      <td>nonrobust</td>    <th>                     </th>     <td> </td>   \n",
       "</tr>\n",
       "</table>\n",
       "<table class=\"simpletable\">\n",
       "<tr>\n",
       "     <td></td>        <th>coef</th>     <th>std err</th>      <th>t</th>      <th>P>|t|</th>  <th>[0.025</th>    <th>0.975]</th>  \n",
       "</tr>\n",
       "<tr>\n",
       "  <th>const</th>   <td>   44.2097</td> <td>    1.490</td> <td>   29.666</td> <td> 0.000</td> <td>   41.285</td> <td>   47.134</td>\n",
       "</tr>\n",
       "<tr>\n",
       "  <th>tot_inc</th> <td>  2.52e-05</td> <td> 2.26e-05</td> <td>    1.114</td> <td> 0.266</td> <td>-1.92e-05</td> <td> 6.96e-05</td>\n",
       "</tr>\n",
       "<tr>\n",
       "  <th>wgt</th>     <td>   -0.0067</td> <td>    0.010</td> <td>   -0.686</td> <td> 0.493</td> <td>   -0.026</td> <td>    0.013</td>\n",
       "</tr>\n",
       "</table>\n",
       "<table class=\"simpletable\">\n",
       "<tr>\n",
       "  <th>Omnibus:</th>       <td> 2.460</td> <th>  Durbin-Watson:     </th> <td>   1.921</td>\n",
       "</tr>\n",
       "<tr>\n",
       "  <th>Prob(Omnibus):</th> <td> 0.292</td> <th>  Jarque-Bera (JB):  </th> <td>   2.322</td>\n",
       "</tr>\n",
       "<tr>\n",
       "  <th>Skew:</th>          <td>-0.109</td> <th>  Prob(JB):          </th> <td>   0.313</td>\n",
       "</tr>\n",
       "<tr>\n",
       "  <th>Kurtosis:</th>      <td> 3.092</td> <th>  Cond. No.          </th> <td>5.20e+05</td>\n",
       "</tr>\n",
       "</table><br/><br/>Warnings:<br/>[1] Standard Errors assume that the covariance matrix of the errors is correctly specified.<br/>[2] The condition number is large, 5.2e+05. This might indicate that there are<br/>strong multicollinearity or other numerical problems."
      ],
      "text/plain": [
       "<class 'statsmodels.iolib.summary.Summary'>\n",
       "\"\"\"\n",
       "                            OLS Regression Results                            \n",
       "==============================================================================\n",
       "Dep. Variable:                    age   R-squared:                       0.001\n",
       "Model:                            OLS   Adj. R-squared:                 -0.001\n",
       "Method:                 Least Squares   F-statistic:                    0.6326\n",
       "Date:                Wed, 17 Oct 2018   Prob (F-statistic):              0.531\n",
       "Time:                        10:45:29   Log-Likelihood:                -3199.4\n",
       "No. Observations:                1000   AIC:                             6405.\n",
       "Df Residuals:                     997   BIC:                             6419.\n",
       "Df Model:                           2                                         \n",
       "Covariance Type:            nonrobust                                         \n",
       "==============================================================================\n",
       "                 coef    std err          t      P>|t|      [0.025      0.975]\n",
       "------------------------------------------------------------------------------\n",
       "const         44.2097      1.490     29.666      0.000      41.285      47.134\n",
       "tot_inc      2.52e-05   2.26e-05      1.114      0.266   -1.92e-05    6.96e-05\n",
       "wgt           -0.0067      0.010     -0.686      0.493      -0.026       0.013\n",
       "==============================================================================\n",
       "Omnibus:                        2.460   Durbin-Watson:                   1.921\n",
       "Prob(Omnibus):                  0.292   Jarque-Bera (JB):                2.322\n",
       "Skew:                          -0.109   Prob(JB):                        0.313\n",
       "Kurtosis:                       3.092   Cond. No.                     5.20e+05\n",
       "==============================================================================\n",
       "\n",
       "Warnings:\n",
       "[1] Standard Errors assume that the covariance matrix of the errors is correctly specified.\n",
       "[2] The condition number is large, 5.2e+05. This might indicate that there are\n",
       "strong multicollinearity or other numerical problems.\n",
       "\"\"\""
      ]
     },
     "execution_count": 158,
     "metadata": {},
     "output_type": "execute_result"
    }
   ],
   "source": [
    "yvar= survey_df['age']\n",
    "xvar=survey_df[['tot_inc', 'wgt']]\n",
    "xvar = sm.add_constant(xvar)\n",
    "model=sm.OLS(yvar,xvar)\n",
    "results=model.fit()\n",
    "results.summary()"
   ]
  },
  {
   "cell_type": "code",
   "execution_count": 159,
   "metadata": {},
   "outputs": [
    {
     "data": {
      "text/plain": [
       "const      44.209667\n",
       "tot_inc     0.000025\n",
       "wgt        -0.006722\n",
       "dtype: float64"
      ]
     },
     "execution_count": 159,
     "metadata": {},
     "output_type": "execute_result"
    }
   ],
   "source": [
    "results.params"
   ]
  },
  {
   "cell_type": "markdown",
   "metadata": {},
   "source": [
    "Similarly, we can conduct a logistic regression for the Gender variable as a function of these same two variables. The variables in x remain the same, only the y changes. \n"
   ]
  },
  {
   "cell_type": "code",
   "execution_count": 160,
   "metadata": {},
   "outputs": [
    {
     "name": "stdout",
     "output_type": "stream",
     "text": [
      "Optimization terminated successfully.\n",
      "         Current function value: 0.036050\n",
      "         Iterations 11\n",
      "                          Results: Logit\n",
      "==================================================================\n",
      "Model:              Logit            Pseudo R-squared: 0.948      \n",
      "Dependent Variable: female           AIC:              78.1009    \n",
      "Date:               2018-10-17 10:45 BIC:              92.8242    \n",
      "No. Observations:   1000             Log-Likelihood:   -36.050    \n",
      "Df Model:           2                LL-Null:          -693.15    \n",
      "Df Residuals:       997              LLR p-value:      4.2317e-286\n",
      "Converged:          1.0000           Scale:            1.0000     \n",
      "No. Iterations:     11.0000                                       \n",
      "--------------------------------------------------------------------\n",
      "            Coef.    Std.Err.      z      P>|z|     [0.025    0.975]\n",
      "--------------------------------------------------------------------\n",
      "const      76.7929    10.5690    7.2659   0.0000   56.0781   97.5077\n",
      "tot_inc    -0.0002     0.0000   -3.6602   0.0003   -0.0002   -0.0001\n",
      "wgt        -0.4460     0.0618   -7.2185   0.0000   -0.5672   -0.3249\n",
      "==================================================================\n",
      "\n"
     ]
    }
   ],
   "source": [
    "yvar= survey_df['female']\n",
    "logit_model=sm.Logit(yvar,xvar)\n",
    "results_fem=logit_model.fit()\n",
    "print(results_fem.summary2())"
   ]
  },
  {
   "cell_type": "code",
   "execution_count": 161,
   "metadata": {},
   "outputs": [
    {
     "data": {
      "text/plain": [
       "const      76.792902\n",
       "tot_inc    -0.000156\n",
       "wgt        -0.446048\n",
       "dtype: float64"
      ]
     },
     "execution_count": 161,
     "metadata": {},
     "output_type": "execute_result"
    }
   ],
   "source": [
    "results_fem.params"
   ]
  },
  {
   "cell_type": "markdown",
   "metadata": {},
   "source": [
    "We now impute these 2 variables into the Best Income dataset by using the coefficients that were generated in the 2 regressions for the Survey data set. "
   ]
  },
  {
   "cell_type": "code",
   "execution_count": 162,
   "metadata": {},
   "outputs": [],
   "source": [
    "#Age Imputation\n",
    "best_df['age']=44.209667+(0.000025*best_df['tot_inc'])+(-0.006722*best_df['wgt'])\n"
   ]
  },
  {
   "cell_type": "code",
   "execution_count": 163,
   "metadata": {},
   "outputs": [],
   "source": [
    "from scipy.special import logit, expit\n",
    "\n",
    "#Gender Imputation\n",
    "best_df['gender_score']=expit(76.792902+(-0.000156*best_df['tot_inc'])+(-0.446048*best_df['wgt']))\n",
    "\n",
    "#We set a threshold for the gender_score. Any value over 0.5 automatically qualifies as female. Anything less is called male. \n",
    "best_df['female'] = np.where(best_df['gender_score']>0.5, 1,0)\n"
   ]
  },
  {
   "cell_type": "markdown",
   "metadata": {},
   "source": [
    "Now that we've created the 2 variables by imputation, let's get to know them a bit better in the context of this data set. "
   ]
  },
  {
   "cell_type": "code",
   "execution_count": 164,
   "metadata": {},
   "outputs": [
    {
     "data": {
      "text/html": [
       "<div>\n",
       "<style scoped>\n",
       "    .dataframe tbody tr th:only-of-type {\n",
       "        vertical-align: middle;\n",
       "    }\n",
       "\n",
       "    .dataframe tbody tr th {\n",
       "        vertical-align: top;\n",
       "    }\n",
       "\n",
       "    .dataframe thead th {\n",
       "        text-align: right;\n",
       "    }\n",
       "</style>\n",
       "<table border=\"1\" class=\"dataframe\">\n",
       "  <thead>\n",
       "    <tr style=\"text-align: right;\">\n",
       "      <th></th>\n",
       "      <th>age</th>\n",
       "      <th>female</th>\n",
       "    </tr>\n",
       "  </thead>\n",
       "  <tbody>\n",
       "    <tr>\n",
       "      <th>count</th>\n",
       "      <td>10000.000000</td>\n",
       "      <td>10000.000000</td>\n",
       "    </tr>\n",
       "    <tr>\n",
       "      <th>mean</th>\n",
       "      <td>44.877295</td>\n",
       "      <td>0.451300</td>\n",
       "    </tr>\n",
       "    <tr>\n",
       "      <th>std</th>\n",
       "      <td>0.217553</td>\n",
       "      <td>0.497648</td>\n",
       "    </tr>\n",
       "    <tr>\n",
       "      <th>min</th>\n",
       "      <td>43.969714</td>\n",
       "      <td>0.000000</td>\n",
       "    </tr>\n",
       "    <tr>\n",
       "      <th>25%</th>\n",
       "      <td>44.731300</td>\n",
       "      <td>0.000000</td>\n",
       "    </tr>\n",
       "    <tr>\n",
       "      <th>50%</th>\n",
       "      <td>44.873294</td>\n",
       "      <td>0.000000</td>\n",
       "    </tr>\n",
       "    <tr>\n",
       "      <th>75%</th>\n",
       "      <td>45.024181</td>\n",
       "      <td>1.000000</td>\n",
       "    </tr>\n",
       "    <tr>\n",
       "      <th>max</th>\n",
       "      <td>45.684028</td>\n",
       "      <td>1.000000</td>\n",
       "    </tr>\n",
       "  </tbody>\n",
       "</table>\n",
       "</div>"
      ],
      "text/plain": [
       "                age        female\n",
       "count  10000.000000  10000.000000\n",
       "mean      44.877295      0.451300\n",
       "std        0.217553      0.497648\n",
       "min       43.969714      0.000000\n",
       "25%       44.731300      0.000000\n",
       "50%       44.873294      0.000000\n",
       "75%       45.024181      1.000000\n",
       "max       45.684028      1.000000"
      ]
     },
     "execution_count": 164,
     "metadata": {},
     "output_type": "execute_result"
    }
   ],
   "source": [
    "imputed_var=best_df[['age', 'female']]\n",
    "imputed_var.describe()"
   ]
  },
  {
   "cell_type": "markdown",
   "metadata": {},
   "source": [
    "As expected, we see that the minimum and maximum values for 'female' are 0 and 1 respectively (binary variable). We also see a mean of 0.4513, which implies that about 45% of the population sampled in the BestIncome.txt data set could (under our imputation model) be female. \n",
    "\n",
    "For age, we surprisingly find a very small range. The maximum is 45.68, while the minimum lies at 43.7. Even the 1st, 2nd and 3rd quartiles seem to lie around 44 and 45. This implies a very dense distribution of ages around the mean value of 44.8. This does not seem to be representative of the working population of an economy in general. It is possible that our imputation for age may not have been founded on justified assumptions. "
   ]
  },
  {
   "cell_type": "code",
   "execution_count": 165,
   "metadata": {},
   "outputs": [
    {
     "data": {
      "text/html": [
       "<div>\n",
       "<style scoped>\n",
       "    .dataframe tbody tr th:only-of-type {\n",
       "        vertical-align: middle;\n",
       "    }\n",
       "\n",
       "    .dataframe tbody tr th {\n",
       "        vertical-align: top;\n",
       "    }\n",
       "\n",
       "    .dataframe thead th {\n",
       "        text-align: right;\n",
       "    }\n",
       "</style>\n",
       "<table border=\"1\" class=\"dataframe\">\n",
       "  <thead>\n",
       "    <tr style=\"text-align: right;\">\n",
       "      <th></th>\n",
       "      <th>lab_inc</th>\n",
       "      <th>cap_inc</th>\n",
       "      <th>hgt</th>\n",
       "      <th>wgt</th>\n",
       "      <th>age</th>\n",
       "      <th>female</th>\n",
       "    </tr>\n",
       "  </thead>\n",
       "  <tbody>\n",
       "    <tr>\n",
       "      <th>lab_inc</th>\n",
       "      <td>1.000000</td>\n",
       "      <td>0.005325</td>\n",
       "      <td>0.002790</td>\n",
       "      <td>0.004507</td>\n",
       "      <td>0.923355</td>\n",
       "      <td>-0.219458</td>\n",
       "    </tr>\n",
       "    <tr>\n",
       "      <th>cap_inc</th>\n",
       "      <td>0.005325</td>\n",
       "      <td>1.000000</td>\n",
       "      <td>0.021572</td>\n",
       "      <td>0.006299</td>\n",
       "      <td>0.233969</td>\n",
       "      <td>-0.062751</td>\n",
       "    </tr>\n",
       "    <tr>\n",
       "      <th>hgt</th>\n",
       "      <td>0.002790</td>\n",
       "      <td>0.021572</td>\n",
       "      <td>1.000000</td>\n",
       "      <td>0.172103</td>\n",
       "      <td>-0.045474</td>\n",
       "      <td>-0.128033</td>\n",
       "    </tr>\n",
       "    <tr>\n",
       "      <th>wgt</th>\n",
       "      <td>0.004507</td>\n",
       "      <td>0.006299</td>\n",
       "      <td>0.172103</td>\n",
       "      <td>1.000000</td>\n",
       "      <td>-0.302530</td>\n",
       "      <td>-0.762372</td>\n",
       "    </tr>\n",
       "    <tr>\n",
       "      <th>age</th>\n",
       "      <td>0.923355</td>\n",
       "      <td>0.233969</td>\n",
       "      <td>-0.045474</td>\n",
       "      <td>-0.302530</td>\n",
       "      <td>1.000000</td>\n",
       "      <td>0.017755</td>\n",
       "    </tr>\n",
       "    <tr>\n",
       "      <th>female</th>\n",
       "      <td>-0.219458</td>\n",
       "      <td>-0.062751</td>\n",
       "      <td>-0.128033</td>\n",
       "      <td>-0.762372</td>\n",
       "      <td>0.017755</td>\n",
       "      <td>1.000000</td>\n",
       "    </tr>\n",
       "  </tbody>\n",
       "</table>\n",
       "</div>"
      ],
      "text/plain": [
       "          lab_inc   cap_inc       hgt       wgt       age    female\n",
       "lab_inc  1.000000  0.005325  0.002790  0.004507  0.923355 -0.219458\n",
       "cap_inc  0.005325  1.000000  0.021572  0.006299  0.233969 -0.062751\n",
       "hgt      0.002790  0.021572  1.000000  0.172103 -0.045474 -0.128033\n",
       "wgt      0.004507  0.006299  0.172103  1.000000 -0.302530 -0.762372\n",
       "age      0.923355  0.233969 -0.045474 -0.302530  1.000000  0.017755\n",
       "female  -0.219458 -0.062751 -0.128033 -0.762372  0.017755  1.000000"
      ]
     },
     "execution_count": 165,
     "metadata": {},
     "output_type": "execute_result"
    }
   ],
   "source": [
    "#We exclude the variable 'total income', since we engineered it later in the analysis\n",
    "final_df=best_df[['lab_inc', 'cap_inc', 'hgt', 'wgt', 'age', 'female']]\n",
    "final_df.corr()"
   ]
  },
  {
   "cell_type": "markdown",
   "metadata": {},
   "source": [
    "### QUESTION TWO\n",
    "\n",
    "\n",
    "We now pose a research question- Is higher intelligence associated with higher income?\n",
    "\n",
    "We explore this relationship by means of the GRE score (quantitative) and salary after graduation for 1000 students. Let's first input this data."
   ]
  },
  {
   "cell_type": "code",
   "execution_count": 166,
   "metadata": {},
   "outputs": [],
   "source": [
    "gre_df=pd.read_csv('IncomeIntel.txt', sep=\",\", names=['grad_year','gre_qnt','salary_p4'])"
   ]
  },
  {
   "cell_type": "markdown",
   "metadata": {},
   "source": [
    "#### a) Initial OLS Estimation- Salary and GRE Quantitative Score\n",
    "We begin by using a standard linear OLS regression. "
   ]
  },
  {
   "cell_type": "code",
   "execution_count": 167,
   "metadata": {},
   "outputs": [
    {
     "data": {
      "text/html": [
       "<table class=\"simpletable\">\n",
       "<caption>OLS Regression Results</caption>\n",
       "<tr>\n",
       "  <th>Dep. Variable:</th>        <td>salary_p4</td>    <th>  R-squared:         </th> <td>   0.263</td> \n",
       "</tr>\n",
       "<tr>\n",
       "  <th>Model:</th>                   <td>OLS</td>       <th>  Adj. R-squared:    </th> <td>   0.262</td> \n",
       "</tr>\n",
       "<tr>\n",
       "  <th>Method:</th>             <td>Least Squares</td>  <th>  F-statistic:       </th> <td>   356.3</td> \n",
       "</tr>\n",
       "<tr>\n",
       "  <th>Date:</th>             <td>Wed, 17 Oct 2018</td> <th>  Prob (F-statistic):</th> <td>3.43e-68</td> \n",
       "</tr>\n",
       "<tr>\n",
       "  <th>Time:</th>                 <td>10:45:30</td>     <th>  Log-Likelihood:    </th> <td> -10673.</td> \n",
       "</tr>\n",
       "<tr>\n",
       "  <th>No. Observations:</th>      <td>  1000</td>      <th>  AIC:               </th> <td>2.135e+04</td>\n",
       "</tr>\n",
       "<tr>\n",
       "  <th>Df Residuals:</th>          <td>   998</td>      <th>  BIC:               </th> <td>2.136e+04</td>\n",
       "</tr>\n",
       "<tr>\n",
       "  <th>Df Model:</th>              <td>     1</td>      <th>                     </th>     <td> </td>    \n",
       "</tr>\n",
       "<tr>\n",
       "  <th>Covariance Type:</th>      <td>nonrobust</td>    <th>                     </th>     <td> </td>    \n",
       "</tr>\n",
       "</table>\n",
       "<table class=\"simpletable\">\n",
       "<tr>\n",
       "     <td></td>        <th>coef</th>     <th>std err</th>      <th>t</th>      <th>P>|t|</th>  <th>[0.025</th>    <th>0.975]</th>  \n",
       "</tr>\n",
       "<tr>\n",
       "  <th>const</th>   <td> 8.954e+04</td> <td>  878.764</td> <td>  101.895</td> <td> 0.000</td> <td> 8.78e+04</td> <td> 9.13e+04</td>\n",
       "</tr>\n",
       "<tr>\n",
       "  <th>gre_qnt</th> <td>  -25.7632</td> <td>    1.365</td> <td>  -18.875</td> <td> 0.000</td> <td>  -28.442</td> <td>  -23.085</td>\n",
       "</tr>\n",
       "</table>\n",
       "<table class=\"simpletable\">\n",
       "<tr>\n",
       "  <th>Omnibus:</th>       <td> 9.118</td> <th>  Durbin-Watson:     </th> <td>   1.424</td>\n",
       "</tr>\n",
       "<tr>\n",
       "  <th>Prob(Omnibus):</th> <td> 0.010</td> <th>  Jarque-Bera (JB):  </th> <td>   9.100</td>\n",
       "</tr>\n",
       "<tr>\n",
       "  <th>Skew:</th>          <td> 0.230</td> <th>  Prob(JB):          </th> <td>  0.0106</td>\n",
       "</tr>\n",
       "<tr>\n",
       "  <th>Kurtosis:</th>      <td> 3.077</td> <th>  Cond. No.          </th> <td>1.71e+03</td>\n",
       "</tr>\n",
       "</table><br/><br/>Warnings:<br/>[1] Standard Errors assume that the covariance matrix of the errors is correctly specified.<br/>[2] The condition number is large, 1.71e+03. This might indicate that there are<br/>strong multicollinearity or other numerical problems."
      ],
      "text/plain": [
       "<class 'statsmodels.iolib.summary.Summary'>\n",
       "\"\"\"\n",
       "                            OLS Regression Results                            \n",
       "==============================================================================\n",
       "Dep. Variable:              salary_p4   R-squared:                       0.263\n",
       "Model:                            OLS   Adj. R-squared:                  0.262\n",
       "Method:                 Least Squares   F-statistic:                     356.3\n",
       "Date:                Wed, 17 Oct 2018   Prob (F-statistic):           3.43e-68\n",
       "Time:                        10:45:30   Log-Likelihood:                -10673.\n",
       "No. Observations:                1000   AIC:                         2.135e+04\n",
       "Df Residuals:                     998   BIC:                         2.136e+04\n",
       "Df Model:                           1                                         \n",
       "Covariance Type:            nonrobust                                         \n",
       "==============================================================================\n",
       "                 coef    std err          t      P>|t|      [0.025      0.975]\n",
       "------------------------------------------------------------------------------\n",
       "const       8.954e+04    878.764    101.895      0.000    8.78e+04    9.13e+04\n",
       "gre_qnt      -25.7632      1.365    -18.875      0.000     -28.442     -23.085\n",
       "==============================================================================\n",
       "Omnibus:                        9.118   Durbin-Watson:                   1.424\n",
       "Prob(Omnibus):                  0.010   Jarque-Bera (JB):                9.100\n",
       "Skew:                           0.230   Prob(JB):                       0.0106\n",
       "Kurtosis:                       3.077   Cond. No.                     1.71e+03\n",
       "==============================================================================\n",
       "\n",
       "Warnings:\n",
       "[1] Standard Errors assume that the covariance matrix of the errors is correctly specified.\n",
       "[2] The condition number is large, 1.71e+03. This might indicate that there are\n",
       "strong multicollinearity or other numerical problems.\n",
       "\"\"\""
      ]
     },
     "execution_count": 167,
     "metadata": {},
     "output_type": "execute_result"
    }
   ],
   "source": [
    "Y=gre_df['salary_p4']\n",
    "X=gre_df['gre_qnt']\n",
    "X = sm.add_constant(X)\n",
    "model=sm.OLS(Y,X)\n",
    "results=model.fit()\n",
    "results.summary()\n"
   ]
  },
  {
   "cell_type": "code",
   "execution_count": 168,
   "metadata": {},
   "outputs": [
    {
     "data": {
      "text/plain": [
       "const      89541.293482\n",
       "gre_qnt      -25.763184\n",
       "dtype: float64"
      ]
     },
     "execution_count": 168,
     "metadata": {},
     "output_type": "execute_result"
    }
   ],
   "source": [
    "results.params"
   ]
  },
  {
   "cell_type": "code",
   "execution_count": 169,
   "metadata": {},
   "outputs": [
    {
     "data": {
      "text/plain": [
       "const      878.763558\n",
       "gre_qnt      1.364920\n",
       "dtype: float64"
      ]
     },
     "execution_count": 169,
     "metadata": {},
     "output_type": "execute_result"
    }
   ],
   "source": [
    "results.bse"
   ]
  },
  {
   "cell_type": "markdown",
   "metadata": {},
   "source": [
    "The two coefficients for $\\beta_{0}$ and $\\beta_{1}$ are roughly 89451.3 and -25.76 respectively, with a standard error of 878.76 and 1.36 respectively. The coefficient for GRE Quantitative Score appears to be strongly significant in this regression model. \n",
    "\n",
    "\n",
    "Based on this analysis, it would seem like our research hypothesis was false. There seems to be a NEGATIVE relationship between GRE quantitative scores and salary (due to the negative sign of the coefficient).\n",
    "\n",
    "However, we may benefit from examining our variables in greater detail. We will do so in the next 3 sections. "
   ]
  },
  {
   "cell_type": "markdown",
   "metadata": {},
   "source": [
    "### b) Plotting and Modification of GRE Quantitative Score"
   ]
  },
  {
   "cell_type": "markdown",
   "metadata": {},
   "source": [
    "The scores in the data themselves are not rounded like actual GRE Scores. We need to get this step completed first. We will then proceed to plotting them against salaries. Then we can take a look at the distribution of salaries and GRE quantitative scores on a scatter plot. "
   ]
  },
  {
   "cell_type": "code",
   "execution_count": 170,
   "metadata": {},
   "outputs": [
    {
     "data": {
      "text/plain": [
       "<matplotlib.collections.PathCollection at 0x1c6cf1b0b00>"
      ]
     },
     "execution_count": 170,
     "metadata": {},
     "output_type": "execute_result"
    },
    {
     "data": {
      "image/png": "[encoded data removed]",
      "text/plain": [
       "<Figure size 432x288 with 1 Axes>"
      ]
     },
     "metadata": {},
     "output_type": "display_data"
    }
   ],
   "source": [
    "gre_df['gre_qnt']=np.ceil(gre_df['gre_qnt'])\n",
    "Y=gre_df['salary_p4']\n",
    "X=gre_df['gre_qnt']\n",
    "plt.scatter(X, Y)"
   ]
  },
  {
   "cell_type": "markdown",
   "metadata": {},
   "source": [
    "From the plot, it is very clear that GRE scores form two clusters- one at around 100 and another between 700 and 800.\n",
    "\n",
    "This problem is most likely because of the changes in the GRE scoring system in the year 2011, where the range changed from to 200-800 to 130-170. If we leave these scores unchanged, the regression model is going to treat this variable as if it lay along the entire range of 130-800 uniformly. The plot clearly demonstrates that is not the case. Any inference based on the initial regression is likely to be highly inaccurate. \n",
    "\n",
    "This situation will require a scaling operation for the old score, where we divide and multiply by the maximums of the old and new scales respectively. Only then will all the values for the quantitative score be comparable.  "
   ]
  },
  {
   "cell_type": "code",
   "execution_count": 171,
   "metadata": {},
   "outputs": [
    {
     "data": {
      "text/plain": [
       "<matplotlib.collections.PathCollection at 0x1c6cf2108d0>"
      ]
     },
     "execution_count": 171,
     "metadata": {},
     "output_type": "execute_result"
    },
    {
     "data": {
      "image/png": "[encoded data removed]",
      "text/plain": [
       "<Figure size 432x288 with 1 Axes>"
      ]
     },
     "metadata": {},
     "output_type": "display_data"
    }
   ],
   "source": [
    "def rescale(row):\n",
    "    if row['grad_year']<2011:\n",
    "        return np.ceil(row['gre_qnt']*170/800)\n",
    "    else:\n",
    "        return row['gre_qnt']\n",
    "\n",
    "gre_df['scaled']=gre_df.apply(rescale, axis=1)\n",
    "Y=gre_df['salary_p4']\n",
    "X=gre_df['scaled']\n",
    "plt.scatter(X, Y)\n"
   ]
  },
  {
   "cell_type": "markdown",
   "metadata": {},
   "source": [
    "Now the scores seem more evenly distributed and within the same range. This would make our subsequent regression estimates far more accurate. "
   ]
  },
  {
   "cell_type": "markdown",
   "metadata": {},
   "source": [
    "### c) Income after Graduation\n",
    "\n",
    "Now let's consider the working of the salary variable. First, let's plot it against years."
   ]
  },
  {
   "cell_type": "code",
   "execution_count": 172,
   "metadata": {},
   "outputs": [
    {
     "data": {
      "text/plain": [
       "<matplotlib.collections.PathCollection at 0x1c6cf275048>"
      ]
     },
     "execution_count": 172,
     "metadata": {},
     "output_type": "execute_result"
    },
    {
     "data": {
      "image/png": "[encoded data removed]",
      "text/plain": [
       "<Figure size 432x288 with 1 Axes>"
      ]
     },
     "metadata": {},
     "output_type": "display_data"
    }
   ],
   "source": [
    "Y=gre_df['salary_p4']\n",
    "X=gre_df['grad_year']\n",
    "plt.scatter(X, Y)"
   ]
  },
  {
   "cell_type": "markdown",
   "metadata": {},
   "source": [
    "As may be expected from data involving an element of time, we see the income levels rising over the years in the dataset. For every year, we see the mean as well as the distribution of points shift upward. This implies non-stationarity of the data, which violates the OLS assumption of no auto-correlation between values of x"
   ]
  },
  {
   "cell_type": "code",
   "execution_count": 173,
   "metadata": {},
   "outputs": [
    {
     "data": {
      "text/plain": [
       "<matplotlib.collections.PathCollection at 0x1c6cf2d2198>"
      ]
     },
     "execution_count": 173,
     "metadata": {},
     "output_type": "execute_result"
    },
    {
     "data": {
      "image/png": "[encoded data removed]",
      "text/plain": [
       "<Figure size 432x288 with 1 Axes>"
      ]
     },
     "metadata": {},
     "output_type": "display_data"
    }
   ],
   "source": [
    "avg_inc_by_year = list(gre_df['salary_p4'].groupby(gre_df['grad_year']).mean().values)\n",
    "X=avg_inc_by_year\n",
    "years=sorted(list(set(gre_df['grad_year'])))\n",
    "#print(years)\n",
    "plt.scatter(X,years)"
   ]
  },
  {
   "cell_type": "markdown",
   "metadata": {},
   "source": [
    "Indeed, as this plot demonstrates, the mean income is rising almost linearly across years. This would mean that the data are non-stationary, and  R-square values and t-statistics no longer follow the usual distributions. They would, in fact, be highly inflated. \n",
    "\n",
    "Since we don't have access to a longitudinal panel at the level of individuals, we cannot detrend this data. It would thus make sense to calculate the growth rate per year and then divide salary by that value."
   ]
  },
  {
   "cell_type": "code",
   "execution_count": 174,
   "metadata": {},
   "outputs": [],
   "source": [
    "income_vector= np.asarray(avg_inc_by_year)\n",
    "avg_growth = (income_vector[1:] - income_vector[:-1])/(income_vector[:1].mean())\n",
    "avg_growth=np.insert(avg_growth,0,0)\n",
    "yearly_growth = dict(zip(years, avg_growth))\n",
    "\n",
    "def detrend(row):\n",
    "    return row['salary_p4']/(yearly_growth[row['grad_year']]+1)**(row['grad_year']-2001)\n",
    "\n",
    "gre_df['true_salary']=gre_df.apply(detrend, axis=1)\n"
   ]
  },
  {
   "cell_type": "markdown",
   "metadata": {},
   "source": [
    "Now that we've removed the trend, let's see how our salary data fares now on OLS asssumptions. "
   ]
  },
  {
   "cell_type": "code",
   "execution_count": 175,
   "metadata": {},
   "outputs": [
    {
     "data": {
      "text/plain": [
       "<matplotlib.collections.PathCollection at 0x1c6cf321e80>"
      ]
     },
     "execution_count": 175,
     "metadata": {},
     "output_type": "execute_result"
    },
    {
     "data": {
      "image/png": "[encoded data removed]",
      "text/plain": [
       "<Figure size 432x288 with 1 Axes>"
      ]
     },
     "metadata": {},
     "output_type": "display_data"
    }
   ],
   "source": [
    "Y=gre_df['true_salary']\n",
    "X=gre_df['grad_year']\n",
    "plt.scatter(X, Y)"
   ]
  },
  {
   "cell_type": "markdown",
   "metadata": {},
   "source": [
    "Now there is less of a clear upward rise over time. The mean income in fact, falls between 2007 and 2008, as would be historically expected with the US Financial Crisis. It seems like these data are now far more likely to meet OLS assumptions and generate reliable coefficient estimates. "
   ]
  },
  {
   "cell_type": "markdown",
   "metadata": {},
   "source": [
    "### d) Regression Review\n",
    "\n",
    "Now with these changes implemented for the salary values and GRE scores, let's review their relationship with an OLS regression"
   ]
  },
  {
   "cell_type": "code",
   "execution_count": 176,
   "metadata": {},
   "outputs": [
    {
     "data": {
      "text/html": [
       "<table class=\"simpletable\">\n",
       "<caption>OLS Regression Results</caption>\n",
       "<tr>\n",
       "  <th>Dep. Variable:</th>       <td>true_salary</td>   <th>  R-squared:         </th> <td>   0.000</td> \n",
       "</tr>\n",
       "<tr>\n",
       "  <th>Model:</th>                   <td>OLS</td>       <th>  Adj. R-squared:    </th> <td>  -0.001</td> \n",
       "</tr>\n",
       "<tr>\n",
       "  <th>Method:</th>             <td>Least Squares</td>  <th>  F-statistic:       </th> <td>  0.4256</td> \n",
       "</tr>\n",
       "<tr>\n",
       "  <th>Date:</th>             <td>Wed, 17 Oct 2018</td> <th>  Prob (F-statistic):</th>  <td> 0.514</td>  \n",
       "</tr>\n",
       "<tr>\n",
       "  <th>Time:</th>                 <td>10:45:31</td>     <th>  Log-Likelihood:    </th> <td> -10515.</td> \n",
       "</tr>\n",
       "<tr>\n",
       "  <th>No. Observations:</th>      <td>  1000</td>      <th>  AIC:               </th> <td>2.103e+04</td>\n",
       "</tr>\n",
       "<tr>\n",
       "  <th>Df Residuals:</th>          <td>   998</td>      <th>  BIC:               </th> <td>2.104e+04</td>\n",
       "</tr>\n",
       "<tr>\n",
       "  <th>Df Model:</th>              <td>     1</td>      <th>                     </th>     <td> </td>    \n",
       "</tr>\n",
       "<tr>\n",
       "  <th>Covariance Type:</th>      <td>nonrobust</td>    <th>                     </th>     <td> </td>    \n",
       "</tr>\n",
       "</table>\n",
       "<table class=\"simpletable\">\n",
       "<tr>\n",
       "     <td></td>       <th>coef</th>     <th>std err</th>      <th>t</th>      <th>P>|t|</th>  <th>[0.025</th>    <th>0.975]</th>  \n",
       "</tr>\n",
       "<tr>\n",
       "  <th>const</th>  <td> 5.419e+04</td> <td> 8747.872</td> <td>    6.195</td> <td> 0.000</td> <td>  3.7e+04</td> <td> 7.14e+04</td>\n",
       "</tr>\n",
       "<tr>\n",
       "  <th>scaled</th> <td>   36.7061</td> <td>   56.264</td> <td>    0.652</td> <td> 0.514</td> <td>  -73.703</td> <td>  147.115</td>\n",
       "</tr>\n",
       "</table>\n",
       "<table class=\"simpletable\">\n",
       "<tr>\n",
       "  <th>Omnibus:</th>       <td>11.065</td> <th>  Durbin-Watson:     </th> <td>   1.291</td>\n",
       "</tr>\n",
       "<tr>\n",
       "  <th>Prob(Omnibus):</th> <td> 0.004</td> <th>  Jarque-Bera (JB):  </th> <td>  11.094</td>\n",
       "</tr>\n",
       "<tr>\n",
       "  <th>Skew:</th>          <td> 0.251</td> <th>  Prob(JB):          </th> <td> 0.00390</td>\n",
       "</tr>\n",
       "<tr>\n",
       "  <th>Kurtosis:</th>      <td> 3.118</td> <th>  Cond. No.          </th> <td>4.82e+03</td>\n",
       "</tr>\n",
       "</table><br/><br/>Warnings:<br/>[1] Standard Errors assume that the covariance matrix of the errors is correctly specified.<br/>[2] The condition number is large, 4.82e+03. This might indicate that there are<br/>strong multicollinearity or other numerical problems."
      ],
      "text/plain": [
       "<class 'statsmodels.iolib.summary.Summary'>\n",
       "\"\"\"\n",
       "                            OLS Regression Results                            \n",
       "==============================================================================\n",
       "Dep. Variable:            true_salary   R-squared:                       0.000\n",
       "Model:                            OLS   Adj. R-squared:                 -0.001\n",
       "Method:                 Least Squares   F-statistic:                    0.4256\n",
       "Date:                Wed, 17 Oct 2018   Prob (F-statistic):              0.514\n",
       "Time:                        10:45:31   Log-Likelihood:                -10515.\n",
       "No. Observations:                1000   AIC:                         2.103e+04\n",
       "Df Residuals:                     998   BIC:                         2.104e+04\n",
       "Df Model:                           1                                         \n",
       "Covariance Type:            nonrobust                                         \n",
       "==============================================================================\n",
       "                 coef    std err          t      P>|t|      [0.025      0.975]\n",
       "------------------------------------------------------------------------------\n",
       "const       5.419e+04   8747.872      6.195      0.000     3.7e+04    7.14e+04\n",
       "scaled        36.7061     56.264      0.652      0.514     -73.703     147.115\n",
       "==============================================================================\n",
       "Omnibus:                       11.065   Durbin-Watson:                   1.291\n",
       "Prob(Omnibus):                  0.004   Jarque-Bera (JB):               11.094\n",
       "Skew:                           0.251   Prob(JB):                      0.00390\n",
       "Kurtosis:                       3.118   Cond. No.                     4.82e+03\n",
       "==============================================================================\n",
       "\n",
       "Warnings:\n",
       "[1] Standard Errors assume that the covariance matrix of the errors is correctly specified.\n",
       "[2] The condition number is large, 4.82e+03. This might indicate that there are\n",
       "strong multicollinearity or other numerical problems.\n",
       "\"\"\""
      ]
     },
     "execution_count": 176,
     "metadata": {},
     "output_type": "execute_result"
    }
   ],
   "source": [
    "Y=gre_df['true_salary']\n",
    "X=gre_df['scaled']\n",
    "X = sm.add_constant(X)\n",
    "model=sm.OLS(Y,X)\n",
    "results=model.fit()\n",
    "results.summary()"
   ]
  },
  {
   "cell_type": "code",
   "execution_count": 177,
   "metadata": {},
   "outputs": [
    {
     "data": {
      "text/plain": [
       "const     54194.538109\n",
       "scaled       36.706141\n",
       "dtype: float64"
      ]
     },
     "execution_count": 177,
     "metadata": {},
     "output_type": "execute_result"
    }
   ],
   "source": [
    "results.params"
   ]
  },
  {
   "cell_type": "code",
   "execution_count": 178,
   "metadata": {},
   "outputs": [
    {
     "data": {
      "text/plain": [
       "const     8747.871505\n",
       "scaled      56.264018\n",
       "dtype: float64"
      ]
     },
     "execution_count": 178,
     "metadata": {},
     "output_type": "execute_result"
    }
   ],
   "source": [
    "results.bse"
   ]
  },
  {
   "cell_type": "markdown",
   "metadata": {},
   "source": [
    "Now with our modified data, we find that the regression provides two different findings from the original:\n",
    "1. The coefficient has fallen for the intercept term (from 89541.3 to 55587.008091). \n",
    "2. The relationship of higher intelligence with higher salary is no longer significant. (the p value is now a large 0.62)\n",
    "3. The confidence interval includes negative values- which implies that higher intelligence could potentially be associated with a rise in income too! \n",
    "4. Standard errors have risen considerably across the board- from 878.763558 to 8721.6 for the intercept term, and from barely 1.36 to 56.169304 for the coefficient of GRE quantitative Scores. This implies that there is a lot more variability in the relationship between these variables than was initially apparent.\n",
    "\n",
    "This means that we fail to reject the null hypothesis of no relationship between salary and GRE quantitative scores. "
   ]
  },
  {
   "cell_type": "markdown",
   "metadata": {},
   "source": [
    "\n",
    "## QUESTION THREE\n",
    "\n",
    "Now it's time to explore the 2009 paper 'Origins of Homophily in an Evolving Social Network' by Kossinets and Watts. "
   ]
  },
  {
   "cell_type": "markdown",
   "metadata": {},
   "source": [
    "### a) The Research Question:\n",
    "On what grounds (structural proximity, individual preference for similarity, etc.) and to what extent do individuals selectively make or break some ties over others, and how do these choices shed light on the observation that similar people are more likely to become acquainted than dissimilar people?\n",
    "\n"
   ]
  },
  {
   "cell_type": "markdown",
   "metadata": {},
   "source": [
    "### b) The Data\n",
    "\n",
    "##### i) Sources\n",
    "The data set was constructed from 3 different data sources (each of which arose from databases): \n",
    "1. the logs of e-mail interactions within the university over one academic year\n",
    "2. a database of individual attributes (status, gender, age, department, number of years in the community, etc.)\n",
    "3. records of course registration, in which courses were recorded separately for each semester\n",
    "\n",
    "The resulting data set combined longitudinal data with regards to the interaction, affiliation and attributes of all the parties involved- undergraduate and graduate students, faculty, and staff in a large U.S. university, who used\n",
    "their university e-mail accounts to both send and receive messages.\n",
    "\n",
    "##### ii) Observations\n",
    "In terms of the number of participants, 30,396 individuals were observed. This study then analyzed 7,156,162 messages exchanged between them. \n",
    "\n",
    "##### iii)Time Period\n",
    "The study was conducted over one academic year (about 270 days in this case)\n",
    "\n",
    "##### iv) Documentation\n",
    "The description of all these variables may be found in Appendix A, on Page 35-38 of the paper.\n"
   ]
  },
  {
   "cell_type": "markdown",
   "metadata": {},
   "source": [
    "### c) Data Cleaning- Potential Problem\n",
    "\n",
    "The study is remarkable for its selectivity of participants and emails in service of its objectives. However, this strength could also turn into a weakness if the research becomes too selective and leaves out several key dimensions and approaches. More specifically, it excludes participants at several levels. First, it focuses only on the interactions among members of the university population. This approach leaves out a critical dimension of relationships with the outside world. Second, it excluded 8979 members of that university population who were not necessarily regular email users across both semesters. Another 4,178 members were excluded on the grounds of not exchanging emails throughout the year. Finally, alumni whose new email addresses may have been available with the university were left out as they could no longer use those officiated by the university. \n",
    "\n",
    "The underlying logic of this sifting logic appears to be the frequency of interaction. Almost implicitly, the study seems to be assuming that social ties can only emerge with regular rather than sporadic communication. This could have been tested if the authors were to delve deeper into the specifics of each social relationship. However, the research approach leveraged here is more binary in its understanding. Either two individuals are connected on a network, or they are not. With this simple conceptualization, a larger number of the university population and the 'social relationships' between them could have been explored. The study thus falls short of its own goal in its attempts to narrow its scope.  \n",
    "\n",
    "Furthermore, the email content itself was anonymized and not analyzed. While this helps uphold privacy of the participants, it stalls a deeper insight into the actual nature of conversations and the hypothesized 'social relationships'. \n"
   ]
  },
  {
   "cell_type": "markdown",
   "metadata": {},
   "source": [
    "### d) Match of Theoretical Construct and Data Source\n",
    "\n",
    "The authors of this paper focus on the theoretical construct of 'social relationships' with explicit reference to the importance of time in understanding their dynamics. They state that such relationships for individuals can only be truly understood when placed in the context of all previous choices of environments and friends. This longitudinal aspect of social networks has poven challenging to capture empirically. The authors seek to address this concern through reliance on electronic network data- such as email communications, whose evolution can be monitored in real time and in a computationally rigorous manner. \n",
    "\n",
    "Of course, the mere presence of online communications by no means a guarantees such interactions offline. Depending on the cultural, geeographical or institutional setting, a large proportion of 'social relationships' may emerge in person and without mediation by any digital interface. Thus, two individuals may seem to be friends as per the email patterns laid down in the authors' research strategy. However, they need not have ever met in real life. Similarly, some strong associations may have formed without any such records detected online. \n",
    "\n",
    "The authors concede this point through reference to focal closure- one of the two primary mechanisms for the emergence of new ties. First, they rely on Feld's (1981) concept of 'social interaction foci', which are defined as the \"various groups, contexts, and activities around which social life is organized and which in turn facilitate interpersonal interactions.\" The authors first turn to their data on officially recorded classes and treat them as 'explicit foci'that serve as visible and potentially important forums of interaction amongst most subgroups. This is the first instance of 'capturing' a real-world interaction that does not necessarilt rely on email networks. \n",
    "\n",
    "Crucially, they concede further that focal closure may operate through other avenues, such as social groups, sporting and cultural organizations, shared housing, etc. While there are little to no direct data available on these aspects, the authors rely on their previously discarded bulk email messages. They highlight that such emails imply shared affiliation, group, or\n",
    "any activity that generates a demand for group-oriented communication. Due to this inferred nature of the interaction, the authors refer to such avenues as 'implicit foci'. They also further differentitate these foci into organized groups (that facilitate regular opportunities for interaction) and quasi groups (such as email lists and email lists). \n",
    "\n",
    "Thus, the authors begin with a seemingly narrow definition of 'social relationships' in the online realm. However, the collection of actual offline interactions could require more innovative uses of technology and potentially involve breaches of personal privacy (for example, tracking of mobile phone conversations or GPS records). Given the limited types of data available, I would conclude that the authors have fared commendably in encompassing a range of interaction types purely leveraging an email network. While the match between the theoretical construct and data science is not perfect, it is certainly an innovative and promising step in the right direction for computational social science. \n",
    "\n"
   ]
  }
 ],
 "metadata": {
  "kernelspec": {
   "display_name": "Python 3",
   "language": "python",
   "name": "python3"
  },
  "language_info": {
   "codemirror_mode": {
    "name": "ipython",
    "version": 3
   },
   "file_extension": ".py",
   "mimetype": "text/x-python",
   "name": "python",
   "nbconvert_exporter": "python",
   "pygments_lexer": "ipython3",
   "version": "3.6.5"
  }
 },
 "nbformat": 4,
 "nbformat_minor": 2
}
