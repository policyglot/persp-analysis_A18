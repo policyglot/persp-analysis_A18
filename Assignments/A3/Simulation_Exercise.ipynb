{
 "cells": [
  {
   "cell_type": "markdown",
   "metadata": {},
   "source": [
    "### Q1 Simulation in Sociology"
   ]
  },
  {
   "cell_type": "markdown",
   "metadata": {},
   "source": []
  },
  {
   "cell_type": "code",
   "execution_count": 17,
   "metadata": {},
   "outputs": [],
   "source": [
    "import scipy.stats as sts\n",
    "import numpy as np\n",
    "import matplotlib.pyplot as plt\n",
    "from matplotlib.ticker import MultipleLocator\n",
    "#data= sts.norms.rvs(means, std, size)"
   ]
  },
  {
   "cell_type": "code",
   "execution_count": 20,
   "metadata": {},
   "outputs": [],
   "source": [
    "def inc_sim(profile):\n",
    "\n",
    "    #set random seed\n",
    "    np.random.seed(333)\n",
    "\n",
    "    #create a matrix of lognormally distributed errors, all of the same dimension as number of years* number of simulations\n",
    "    errors = np.random.lognormal(0, p['stddev'] ,(p['lf_years'], p['num_draws']))\n",
    "    \n",
    "    #define the initial term\n",
    "    base= np.log(p['inc'])\n",
    "    \n",
    "    #create an initial matrix of dim (lf_years, num_draws) (same as that of errors)\n",
    "    ln_inc_mat = np.zeros((p['lf_years'], p['num_draws']))\n",
    "\n",
    "    #fill the first row of the matrix with simulations for the first year\n",
    "    ln_inc_mat[0, :] = base + errors[0, :]\n",
    "\n",
    "    #loop and apply model to the remaining rows\n",
    "    for t in range(1, p['lf_years']):\n",
    "        ln_inc_mat[t, :] = (1-p['rho'])*(base+ p['g']*(t-2020))+p['rho']*ln_inc_mat[t - 1, :]+errors[t, : ]\n",
    "\n",
    "    \n",
    "    return ln_inc_mat\n",
    "\n"
   ]
  },
  {
   "cell_type": "code",
   "execution_count": 21,
   "metadata": {},
   "outputs": [],
   "source": [
    "p = {   'inc'         : 80000,      #starting income\n",
    "        'stddev'      : 0.13,       #standard deviation\n",
    "        'rho'         : 0.4,        #persist rate\n",
    "        'g'           : 0.025,      #growth rate\n",
    "        'st_year'     : int(2020),  #start year\n",
    "        'lf_years'    : 40,         #years to live        \n",
    "        'num_draws'   : 10000       #simulations\n",
    "    }\n",
    "    "
   ]
  },
  {
   "cell_type": "code",
   "execution_count": 22,
   "metadata": {},
   "outputs": [
    {
     "name": "stdout",
     "output_type": "stream",
     "text": [
      "[[ 12.53989493  12.33289556  12.22995561 ...  12.20935708  12.64102122\n",
      "   12.36883419]\n",
      " [-17.55918202 -17.59897597 -17.59639085 ... -17.47300286 -17.26675032\n",
      "  -17.55863977]\n",
      " [-29.24383068 -29.30118959 -29.76957467 ... -29.58390857 -29.58489666\n",
      "  -29.57088997]\n",
      " ...\n",
      " [-36.72385558 -36.67261523 -36.76959069 ... -36.59959415 -36.47552469\n",
      "  -36.47417781]\n",
      " [-36.73305694 -36.79755537 -36.6821253  ... -36.63412224 -36.47388555\n",
      "  -36.48231989]\n",
      " [-36.46762166 -36.71648523 -36.73862232 ... -36.84495024 -36.5329815\n",
      "  -36.62646035]]\n"
     ]
    }
   ],
   "source": [
    "print(inc_sim(p))"
   ]
  },
  {
   "cell_type": "code",
   "execution_count": null,
   "metadata": {},
   "outputs": [],
   "source": [
    "\n",
    "    #create a matrix of dim (lf_years, num_draws)\n",
    "    ln_wealth_mat = np.zeros((p['lf_years'], p['num_draws']))\n",
    "\n",
    "    #fill the matrix\n",
    "    ln_wealth_mat[0, :] = np.log(p['w0']) + pareto_errors[0, :]\n",
    "\n",
    "    #loop and apply model\n",
    "    for t in range(1, p['lf_years']):\n",
    "        ln_wealth_mat[t, :] = \n",
    "        \n",
    "        (1-p['rho'])*(p['inc'])\n",
    "        \n",
    "        ((1 - p['gr']/4) * (np.log(p['w0']) + p['ms'] * (yr)) +\n",
    "                                p['ir']/4 * ln_wealth_mat[yr - 1, :]  +\n",
    "                                np.log(p['inc']/1000+(p['inc']/10000*yr)) +\n",
    "                                pareto_errors[yr, :])\n",
    "\n",
    "\n",
    "    wealth_mat = np.exp(ln_wealth_mat) #dealing with large numbers so put in terms of 10k's\n",
    "    return wealth_mat"
   ]
  },
  {
   "cell_type": "code",
   "execution_count": null,
   "metadata": {},
   "outputs": [],
   "source": [
    "plt.hist(wealth_mat[0,:], bins=50)\n",
    "plt.xlabel(\"Wealth Distribution\")\n",
    "plt.title(\"Number of Respondents in Wealth Bins\")"
   ]
  },
  {
   "cell_type": "code",
   "execution_count": null,
   "metadata": {},
   "outputs": [],
   "source": []
  },
  {
   "cell_type": "markdown",
   "metadata": {},
   "source": [
    "### Part d) Changes in Initial Income and Variability"
   ]
  },
  {
   "cell_type": "code",
   "execution_count": null,
   "metadata": {},
   "outputs": [],
   "source": [
    "p = {   'inc'         : 80000,      #starting income\n",
    "        'stddev'      : 0.13,       #standard deviation\n",
    "        'rho'         : 0.4,        #persist rate\n",
    "        'g'           : 0.025,      #growth rate\n",
    "        'st_year'     : int(2020),  #start year\n",
    "        'lf_years'    : 40,         #years to live        \n",
    "        'num_draws'   : 10000       #simulations\n",
    "    }\n",
    "    "
   ]
  }
 ],
 "metadata": {
  "kernelspec": {
   "display_name": "Python 3",
   "language": "python",
   "name": "python3"
  },
  "language_info": {
   "codemirror_mode": {
    "name": "ipython",
    "version": 3
   },
   "file_extension": ".py",
   "mimetype": "text/x-python",
   "name": "python",
   "nbconvert_exporter": "python",
   "pygments_lexer": "ipython3",
   "version": "3.6.5"
  }
 },
 "nbformat": 4,
 "nbformat_minor": 2
}
