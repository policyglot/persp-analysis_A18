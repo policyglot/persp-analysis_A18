{
 "cells": [
  {
   "cell_type": "markdown",
   "metadata": {},
   "source": [
    "### Q1 Simulation in Sociology"
   ]
  },
  {
   "cell_type": "markdown",
   "metadata": {},
   "source": []
  },
  {
   "cell_type": "code",
   "execution_count": 9,
   "metadata": {},
   "outputs": [],
   "source": [
    "import scipy.stats as sts\n",
    "import numpy as np\n",
    "import matplotlib.pyplot as plt\n",
    "from matplotlib.ticker import MultipleLocator\n",
    "#data= sts.norms.rvs(means, std, size)"
   ]
  },
  {
   "cell_type": "code",
   "execution_count": 10,
   "metadata": {},
   "outputs": [],
   "source": [
    "def inc_sim(profile):\n",
    "\n",
    "    #set random seed\n",
    "    np.random.seed(333)\n",
    "\n",
    "    #create a matrix of lognormally distributed errors, all of the same dimension as number of years* number of simulations\n",
    "    errors = np.random.lognormal(0, p['stddev'] ,(p['lf_years'], p['num_draws']))\n",
    "    \n",
    "    #create an initial matrix of dim (lf_years, num_draws) (same as that of errors)\n",
    "    ln_inc_mat = np.zeros((p['lf_years'], p['num_draws']))\n",
    "\n",
    "    #fill the first row of the matrix with simulations for the first year\n",
    "    ln_inc_mat[0, :] = np.log(p['inc']) + errors[0, :]\n",
    "\n",
    "    #loop and apply model to the remaining rows\n",
    "    for t in range(1, p['lf_years']):\n",
    "        ln_inc_mat[t, :] =       \n",
    "        (1-p['rho'])*(np.log(['inc'])+ p['g']*(t-2020))+\n",
    "        p['rho']*ln_inc_mat[t - 1, :]\n",
    "        +errors[t, : ]\n",
    "\n",
    "    \n",
    "    return ln_i\n",
    "\n"
   ]
  },
  {
   "cell_type": "code",
   "execution_count": 11,
   "metadata": {},
   "outputs": [],
   "source": [
    "p = {\n",
    "        'inc'         : 80000,      #starting income\n",
    "        'stddev'      : 0.13,       #standard deviation\n",
    "        'rho'         : 0.4,        #persist rate\n",
    "        'g'           : 0.025,      #growth rate\n",
    "        'st_year'     : int(2020),  #start year\n",
    "        'lf_years'    : 40,         #years to live        \n",
    "        'num_draws'   : 10000       #simulations\n",
    "    }\n",
    "    "
   ]
  },
  {
   "cell_type": "code",
   "execution_count": 12,
   "metadata": {},
   "outputs": [
    {
     "name": "stdout",
     "output_type": "stream",
     "text": [
      "[[1.25011301 1.04311365 0.94017369 ... 0.91957516 1.35123931 1.07905227]\n",
      " [0.93599086 0.97899666 1.02275776 ... 1.15438517 1.18797204 1.00495741]\n",
      " [1.27597298 1.23453165 0.76511253 ... 0.90142343 0.81793432 0.94869679]\n",
      " ...\n",
      " [0.98444015 0.94745008 0.8616369  ... 1.00277689 1.09818692 1.145407  ]\n",
      " [0.91261614 0.82762157 0.98184183 ... 0.96184627 1.07245518 1.06348209]\n",
      " [1.16673196 0.94366777 0.87535866 ... 0.74982951 0.99770358 0.90759846]]\n"
     ]
    }
   ],
   "source": [
    "print(inc_sim(p))"
   ]
  },
  {
   "cell_type": "code",
   "execution_count": null,
   "metadata": {},
   "outputs": [],
   "source": [
    "\n",
    "    #create a matrix of dim (lf_years, num_draws)\n",
    "    ln_wealth_mat = np.zeros((p['lf_years'], p['num_draws']))\n",
    "\n",
    "    #fill the matrix\n",
    "    ln_wealth_mat[0, :] = np.log(p['w0']) + pareto_errors[0, :]\n",
    "\n",
    "    #loop and apply model\n",
    "    for t in range(1, p['lf_years']):\n",
    "        ln_wealth_mat[t, :] = \n",
    "        \n",
    "        (1-p['rho'])*(p['inc'])\n",
    "        \n",
    "        ((1 - p['gr']/4) * (np.log(p['w0']) + p['ms'] * (yr)) +\n",
    "                                p['ir']/4 * ln_wealth_mat[yr - 1, :]  +\n",
    "                                np.log(p['inc']/1000+(p['inc']/10000*yr)) +\n",
    "                                pareto_errors[yr, :])\n",
    "\n",
    "\n",
    "    wealth_mat = np.exp(ln_wealth_mat) #dealing with large numbers so put in terms of 10k's\n",
    "    return wealth_mat"
   ]
  },
  {
   "cell_type": "code",
   "execution_count": null,
   "metadata": {},
   "outputs": [],
   "source": [
    "plt.hist(wealth_mat[0,:], bins=50)\n",
    "plt.xlabel(\"Wealth Distribution\")\n",
    "plt.title(\"Number of Respondents in Wealth Bins\")"
   ]
  },
  {
   "cell_type": "code",
   "execution_count": null,
   "metadata": {},
   "outputs": [],
   "source": []
  },
  {
   "cell_type": "markdown",
   "metadata": {},
   "source": [
    "### Part d) Changes in Initial Income and Variability"
   ]
  },
  {
   "cell_type": "code",
   "execution_count": null,
   "metadata": {},
   "outputs": [],
   "source": [
    "p = {   'inc'         : 80000,      #starting income\n",
    "        'stddev'      : 0.13,       #standard deviation\n",
    "        'rho'         : 0.4,        #persist rate\n",
    "        'g'           : 0.025,      #growth rate\n",
    "        'st_year'     : int(2020),  #start year\n",
    "        'lf_years'    : 40,         #years to live        \n",
    "        'num_draws'   : 10000       #simulations\n",
    "    }\n",
    "    "
   ]
  }
 ],
 "metadata": {
  "kernelspec": {
   "display_name": "Python 3",
   "language": "python",
   "name": "python3"
  },
  "language_info": {
   "codemirror_mode": {
    "name": "ipython",
    "version": 3
   },
   "file_extension": ".py",
   "mimetype": "text/x-python",
   "name": "python",
   "nbconvert_exporter": "python",
   "pygments_lexer": "ipython3",
   "version": "3.6.5"
  }
 },
 "nbformat": 4,
 "nbformat_minor": 2
}
