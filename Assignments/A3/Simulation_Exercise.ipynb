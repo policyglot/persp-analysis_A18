{
 "cells": [
  {
   "cell_type": "markdown",
   "metadata": {},
   "source": [
    "# Problem Set 2"
   ]
  },
  {
   "cell_type": "markdown",
   "metadata": {},
   "source": [
    "## Q1 Simulation in Sociology"
   ]
  },
  {
   "cell_type": "markdown",
   "metadata": {},
   "source": [
    "### a) Validity Issues"
   ]
  },
  {
   "cell_type": "markdown",
   "metadata": {},
   "source": [
    "#### Multi-Agent Systems\n",
    "They describe macroscopic properties of a system as emergent only as a result of several microscopic individual-level interactions. In this sense, macroscopic properties are perceived exclusively as 'emergent'. This clashes with the beliefs ofthe macro approach, whose proponents contest that we can explain social phenomena only by analyzing the global structure of a social system. The validity of the macro-construct resulting from a multagent system may this be called into question. "
   ]
  },
  {
   "cell_type": "markdown",
   "metadata": {},
   "source": [
    "#### Cellular Automata\n",
    "\n",
    "These involve 2 primary weaknesses with regard to 'validity':\n",
    "i) Synchronous Updating of States: This model assumes a 'global clock' according to which all cells/individuals in the system are updated simultaneously. This assumption may is not representative of real social processes, where individuals modify their attitudes and opinions at different moments.\n",
    "ii) Unrealistic Restrictions on Spatial Interaction: This model also requires that each individual only interact with a subset of the entire population. Prima facie, this may seem like a justified restriction as even in the real world, it is impossible for an individual to interact with all other individuals. However, the specific limits of the 'neighnourhood' within which individual may interact with other individuals eludes precise definition and is likely to change in location over time. Moreover, mass media and other technology may facilitate interaction between individuals who are not geographically close to each other\n"
   ]
  },
  {
   "cell_type": "markdown",
   "metadata": {},
   "source": [
    "Both these approaches involve the same weaknesses as simulation models more broadly- the 'validity' of\n",
    "a simulation rests on the 'validity' of its underlying theory as well as the the validity of the computational tools that enable its definition. The simulation model per se does not make any claims about explaining the links between this theory and empirical data. "
   ]
  },
  {
   "cell_type": "markdown",
   "metadata": {},
   "source": [
    "### b) Dynamic Feedback\n",
    "\n",
    "The author speaks of dynamic feedback and cites the example of using multiagent systems to define models of behaviour such as the description of the concept of social roles.\n",
    "\n",
    "In the realm of political science, an example of a system that may display such dynamic behaviour would be potential research question that may be addressed would be the funding of election campaigns by private donations. For example, to what extent has funding of election campaigns by individuals hailing from a specific industry increased the probability of the funded candidate in winning the local or state elections? The dynamism emerges from the fact that once elected, the industrialist may himself or herself build up financial resources during the elected candidate's term- by means of lobbying or graft at the behest of the candidate. This in turns helps them continue to fund the same candidate in the next election. "
   ]
  },
  {
   "cell_type": "markdown",
   "metadata": {},
   "source": [
    "## Q2 Simulation in Action"
   ]
  },
  {
   "cell_type": "code",
   "execution_count": 198,
   "metadata": {},
   "outputs": [],
   "source": [
    "import scipy.stats as sts\n",
    "import numpy as np\n",
    "import matplotlib.pyplot as plt\n",
    "from matplotlib.ticker import MultipleLocator"
   ]
  },
  {
   "cell_type": "code",
   "execution_count": 192,
   "metadata": {},
   "outputs": [],
   "source": [
    "def inc_sim(p):\n",
    "\n",
    "    #set random seed\n",
    "    np.random.seed(333)\n",
    "\n",
    "    #create a matrix of lognormally distributed errors, all of the same dimension as number of years* number of simulations\n",
    "    errors = np.random.lognormal(0, p['stddev'] ,(p['lf_years'], p['num_draws']))\n",
    "    \n",
    "    #define the initial term\n",
    "    base= np.log(p['inc'])\n",
    "    \n",
    "    #create an initial matrix of dim (lf_years, num_draws) (same as that of errors)\n",
    "    ln_inc_mat = np.zeros((p['lf_years'], p['num_draws']))\n",
    "\n",
    "    #fill the first row of the matrix with simulations for the first year\n",
    "    ln_inc_mat[0, :] = base + np.log(errors[0, :])\n",
    "\n",
    "    #loop and apply model to the remaining rows\n",
    "    for t in range(1, p['lf_years']):\n",
    "        ln_inc_mat[t, :] = (1-p['rho'])*(base+ (p['g']*t))+p['rho']*ln_inc_mat[t - 1, :]+np.log(errors[t, : ])\n",
    "\n",
    "    \n",
    "    return np.exp(ln_inc_mat) #We are interested in the original income values, not the natural logarithm thereof\n",
    "\n"
   ]
  },
  {
   "cell_type": "code",
   "execution_count": 193,
   "metadata": {},
   "outputs": [],
   "source": [
    "old_profile = {   'inc'         : 80000,      #starting income\n",
    "        'stddev'      : 0.13,       #standard deviation\n",
    "        'rho'         : 0.4,        #persist rate\n",
    "        'g'           : 0.025,      #growth rate\n",
    "        'st_year'     : int(2020),  #start year\n",
    "        'lf_years'    : 40,         #years to live        \n",
    "        'num_draws'   : 10000       #simulations\n",
    "    }\n",
    "    "
   ]
  },
  {
   "cell_type": "markdown",
   "metadata": {},
   "source": [
    "Now let's plot take a birds-eye view of these values to see if they roughly fall within the range we expect to see. "
   ]
  },
  {
   "cell_type": "code",
   "execution_count": 194,
   "metadata": {},
   "outputs": [
    {
     "name": "stdout",
     "output_type": "stream",
     "text": [
      "[[100009.04107949  83449.09187628  75213.89535546 ...  73566.01299991\n",
      "  108099.14463559  86324.18192173]\n",
      " [ 83110.46670807  80857.11947497  81032.72145156 ...  90654.63934942\n",
      "  108818.70000602  84133.5188448 ]\n",
      " [106803.77280353 102205.05149742  63397.52577315 ...  78120.97964893\n",
      "   76257.51851361  79799.07879356]\n",
      " ...\n",
      " [180261.73762745 190705.96275929 171530.00102814 ... 205146.34277722\n",
      "  230987.97596881 230159.29551772]\n",
      " [178669.9074883  165721.69137842 188442.74088338 ... 198304.70672764\n",
      "  231855.14975461 229584.96083259]\n",
      " [231051.0387498  181337.29281349 177081.8538588  ... 154814.63116532\n",
      "  219282.76153815 198695.20554107]]\n"
     ]
    }
   ],
   "source": [
    "inc_mat=inc_sim(old_profile)\n",
    "print(inc_mat)\n"
   ]
  },
  {
   "cell_type": "markdown",
   "metadata": {},
   "source": [
    "Great, we do expect to start around the $80,000 mark. The final results (in 2059) seem to match with our intuition too. \n",
    "\n",
    "#### Plotting of Individual Line\n",
    "We randomly select one of the 10,000 simulated instances (here, ID 540) to plot over the period 2020-2060 "
   ]
  },
  {
   "cell_type": "code",
   "execution_count": 142,
   "metadata": {},
   "outputs": [
    {
     "data": {
      "text/plain": [
       "Text(0,0.5,'Annual Salary(\\\\$s)')"
      ]
     },
     "execution_count": 142,
     "metadata": {},
     "output_type": "execute_result"
    },
    {
     "data": {
      "image/png": "[encoded data removed]",
      "text/plain": [
       "<Figure size 432x288 with 1 Axes>"
      ]
     },
     "metadata": {},
     "output_type": "display_data"
    }
   ],
   "source": [
    "%matplotlib inline\n",
    "year_vec = np.arange(p['st_year'], p['st_year'] + p['lf_years'])\n",
    "individual = 540\n",
    "fig, ax = plt.subplots()\n",
    "plt.plot(year_vec, inc_mat[:, individual])\n",
    "minorLocator = MultipleLocator(1)\n",
    "ax.xaxis.set_minor_locator(minorLocator)\n",
    "plt.grid(b=True, which='major', color='0.65', linestyle='-')\n",
    "plt.title('Individual Simulated Lifetime Income Path', fontsize=10)\n",
    "plt.xlabel(r'Year $t$')\n",
    "plt.ylabel(r'Annual Salary(\\$s)')"
   ]
  },
  {
   "cell_type": "markdown",
   "metadata": {},
   "source": [
    "### b) Distribution of Simulated Income "
   ]
  },
  {
   "cell_type": "markdown",
   "metadata": {},
   "source": [
    "First, we plot a histogram of the income based on values simulated in part a)"
   ]
  },
  {
   "cell_type": "code",
   "execution_count": 143,
   "metadata": {},
   "outputs": [
    {
     "data": {
      "text/plain": [
       "Text(0.5,1,'Number of Respondents in Salary Bins')"
      ]
     },
     "execution_count": 143,
     "metadata": {},
     "output_type": "execute_result"
    },
    {
     "data": {
      "image/png": "[encoded data removed]",
      "text/plain": [
       "<Figure size 432x288 with 1 Axes>"
      ]
     },
     "metadata": {},
     "output_type": "display_data"
    }
   ],
   "source": [
    "plt.hist(inc_mat[0,:], bins=50)\n",
    "plt.xlabel(\"Salary Distribution in 2020\")\n",
    "plt.title(\"Number of Respondents in Salary Bins\")"
   ]
  },
  {
   "cell_type": "markdown",
   "metadata": {},
   "source": [
    "The values that we have plotted here are the exponentiated values of the results of the simulation. Since the variables in the simulation were in lognormally distributed, their exponentiation would result in normally distributed variables. \n",
    "\n",
    "Also, we can observe that the distribution is roughly bell-shaped and symmetric. \n",
    "\n",
    "So *yes, the distribution is roughly normal*. More rigorous confirmation would require additional statistical tests. \n",
    "\n",
    "Using the properties of the normal distribution, we can find out the percentage of values expected to be below a certain values\n",
    "\n",
    "Now we find proportions of users above or below specific values"
   ]
  },
  {
   "cell_type": "code",
   "execution_count": 163,
   "metadata": {},
   "outputs": [
    {
     "name": "stdout",
     "output_type": "stream",
     "text": [
      "4.19% of simulations feature an income of more than 100000 in the first year\n",
      "15.01% of simulations feature an income of less than 70000 in the first year\n"
     ]
    }
   ],
   "source": [
    "prop1=((inc_mat[0]>100000).sum())/100\n",
    "print(str(prop1)+\"% of simulations feature an income of more than 100000 in the first year\")\n",
    "prop2=((inc_mat[0]<70000).sum())/100\n",
    "print(str(prop2)+\"% of simulations feature an income of less than 70000 in the first year\")\n"
   ]
  },
  {
   "cell_type": "markdown",
   "metadata": {},
   "source": [
    "### c) Debt PayOff\n",
    "\n",
    "Here, we need to calculate a new vector which provides integer values of the years needed to pay off debts. \n"
   ]
  },
  {
   "cell_type": "code",
   "execution_count": 145,
   "metadata": {},
   "outputs": [],
   "source": [
    "def check_debt(column, debt):\n",
    "    paid_year=0\n",
    "    for i in range(len(column)):\n",
    "        debt-= 0.1*column[i]\n",
    "        if debt>0:\n",
    "            continue\n",
    "        else:\n",
    "            paid_year= i+1\n",
    "            break\n",
    "    return paid_year\n"
   ]
  },
  {
   "cell_type": "code",
   "execution_count": 185,
   "metadata": {},
   "outputs": [
    {
     "data": {
      "text/plain": [
       "Text(0.5,1,'Number of Years to Pay Off Debt')"
      ]
     },
     "execution_count": 185,
     "metadata": {},
     "output_type": "execute_result"
    },
    {
     "data": {
      "image/png": "[encoded data removed]",
      "text/plain": [
       "<Figure size 432x288 with 1 Axes>"
      ]
     },
     "metadata": {},
     "output_type": "display_data"
    }
   ],
   "source": [
    "paid_years=[]\n",
    "for row in np.transpose(inc_mat):\n",
    "    paid_years.append(check_debt(row, 95000))\n",
    "paid= np.array(paid_years)\n",
    "\n",
    "    \n",
    "plt.hist(paid, bins=len(set(paid)))\n",
    "plt.xlabel(\"Number of Years to Pay Off Debt\")\n",
    "plt.ylabel(\"Number of Simulations\")\n",
    "plt.title(\"Number of Years to Pay Off Debt\")\n"
   ]
  },
  {
   "cell_type": "code",
   "execution_count": 170,
   "metadata": {},
   "outputs": [
    {
     "name": "stdout",
     "output_type": "stream",
     "text": [
      "17.14% of simulations involve the student paying off the loan within 10 years\n"
     ]
    }
   ],
   "source": [
    "prop3=((paid<=10).sum())/100\n",
    "print(str(prop3)+\"% of simulations involve the student paying off the loan within 10 years\")\n",
    "\n"
   ]
  },
  {
   "cell_type": "markdown",
   "metadata": {},
   "source": [
    "### Part d) Changes in Initial Income and Variability"
   ]
  },
  {
   "cell_type": "code",
   "execution_count": 189,
   "metadata": {},
   "outputs": [],
   "source": [
    "p_new = {'inc'         : 90000,      #starting income\n",
    "        'stddev'      : 0.17,       #standard deviation\n",
    "        'rho'         : 0.4,        #persist rate\n",
    "        'g'           : 0.025,      #growth rate\n",
    "        'st_year'     : int(2020),  #start year\n",
    "        'lf_years'    : 40,         #years to live        \n",
    "        'num_draws'   : 10000       #simulations\n",
    "    }\n",
    "    "
   ]
  },
  {
   "cell_type": "code",
   "execution_count": 195,
   "metadata": {},
   "outputs": [
    {
     "name": "stdout",
     "output_type": "stream",
     "text": [
      "[[120509.79067581  95107.47203172  83024.62845604 ...  80653.98192296\n",
      "  133413.59714797  99414.99889279]\n",
      " [ 94167.48172272  90842.78449987  91100.86319206 ... 105498.38898696\n",
      "  133956.40385951  95686.16751545]\n",
      " [129880.15876353 122616.03702768  65664.67850859 ...  86284.6342307\n",
      "   83603.08298743  88716.36114139]\n",
      " ...\n",
      " [196894.84966414 211944.15805071 184516.82860545 ... 233171.0624213\n",
      "  272304.15922774 271027.3747359 ]\n",
      " [193132.87909378 175037.54729277 207062.05610934 ... 221345.46446494\n",
      "  271544.90055071 268073.24774424]\n",
      " [268242.66231384 195403.08829129 189428.40554864 ... 158900.58280822\n",
      "  250517.89018281 220215.12687072]]\n"
     ]
    }
   ],
   "source": [
    "inc_mat2= inc_sim(p_new)\n",
    "print(inc_mat2)"
   ]
  },
  {
   "cell_type": "code",
   "execution_count": 196,
   "metadata": {
    "scrolled": true
   },
   "outputs": [
    {
     "data": {
      "text/plain": [
       "Text(0.5,1,'Number of Years to Pay Off Debt')"
      ]
     },
     "execution_count": 196,
     "metadata": {},
     "output_type": "execute_result"
    },
    {
     "data": {
      "image/png": "[encoded data removed]",
      "text/plain": [
       "<Figure size 432x288 with 1 Axes>"
      ]
     },
     "metadata": {},
     "output_type": "display_data"
    }
   ],
   "source": [
    "paid_years_new=[]\n",
    "for row in np.transpose(inc_mat2):\n",
    "    paid_years_new.append(check_debt(row, 95000))\n",
    "paid_new= np.array(paid_years_new)\n",
    "\n",
    "    \n",
    "plt.hist(paid, bins=len(set(paid_new)))\n",
    "plt.xlabel(\"Number of Years to Pay Off Debt\")\n",
    "plt.ylabel(\"Number of Simulations\")\n",
    "plt.title(\"Number of Years to Pay Off Debt\")"
   ]
  },
  {
   "cell_type": "code",
   "execution_count": 197,
   "metadata": {},
   "outputs": [
    {
     "name": "stdout",
     "output_type": "stream",
     "text": [
      "75.77% of simulations involve the student paying off the loan within 10 years\n"
     ]
    }
   ],
   "source": [
    "prop4=((paid_new<=10).sum())/100\n",
    "print(str(prop4)+\"% of simulations involve the student paying off the loan within 10 years\")"
   ]
  }
 ],
 "metadata": {
  "kernelspec": {
   "display_name": "Python 3",
   "language": "python",
   "name": "python3"
  },
  "language_info": {
   "codemirror_mode": {
    "name": "ipython",
    "version": 3
   },
   "file_extension": ".py",
   "mimetype": "text/x-python",
   "name": "python",
   "nbconvert_exporter": "python",
   "pygments_lexer": "ipython3",
   "version": "3.6.5"
  }
 },
 "nbformat": 4,
 "nbformat_minor": 2
}
