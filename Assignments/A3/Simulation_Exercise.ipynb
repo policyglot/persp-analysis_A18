{
 "cells": [
  {
   "cell_type": "markdown",
   "metadata": {},
   "source": [
    "### Q1 Simulation in Sociology"
   ]
  },
  {
   "cell_type": "markdown",
   "metadata": {},
   "source": []
  },
  {
   "cell_type": "code",
   "execution_count": null,
   "metadata": {},
   "outputs": [],
   "source": [
    "import scipy.stats at sts\n",
    "import numpy as np\n",
    "import matplotlib.pyplot as plt\n",
    "from matplotlib.ticker import MultipleLocator\n",
    "data= sts.norms.rvs(means, std, size)"
   ]
  },
  {
   "cell_type": "code",
   "execution_count": null,
   "metadata": {},
   "outputs": [],
   "source": [
    "means= np.array([100, 0.75,0.6,57,64])"
   ]
  },
  {
   "cell_type": "code",
   "execution_count": null,
   "metadata": {},
   "outputs": [],
   "source": [
    "import math\n",
    "\n",
    "math.log\n",
    "rho=\n",
    "growth=\n",
    "\n",
    "math.log(income)=(1-rho)*(math.log(incbase))+rho*(math.log())"
   ]
  },
  {
   "cell_type": "code",
   "execution_count": null,
   "metadata": {},
   "outputs": [],
   "source": [
    "def inc_sim(profile):\n",
    "\n",
    "    #set random seed\n",
    "    np.random.seed(333)\n",
    "\n",
    "    errors = np.random.lognormal(0, p['stddev'] ,(p['lf_years'], p['num_draws']))\n",
    "    \n",
    "    return errors\n",
    "\n"
   ]
  },
  {
   "cell_type": "code",
   "execution_count": null,
   "metadata": {},
   "outputs": [],
   "source": [
    "  \n",
    "    p = {\n",
    "        'start_inc'   : 80000,      #starting income\n",
    "        'stddev'      : 0.13,       #standard deviation\n",
    "        'rho'         : 0.4,        #persist rate\n",
    "        'g'           : 0.025,      #growth rate\n",
    "        'st_year'     : int(2020),  #start year\n",
    "        'lf_years'    : 40,         #years to live        \n",
    "        'num_draws'   : 10000       #simulations\n",
    "    }\n",
    "    "
   ]
  },
  {
   "cell_type": "code",
   "execution_count": null,
   "metadata": {},
   "outputs": [],
   "source": [
    "\n",
    "    #create a matrix of dim (lf_years, num_draws)\n",
    "    ln_wealth_mat = np.zeros((p['lf_years'], p['num_draws']))\n",
    "\n",
    "    #fill the matrix\n",
    "    ln_wealth_mat[0, :] = np.log(p['w0']) + pareto_errors[0, :]\n",
    "\n",
    "    #loop and apply model\n",
    "    for yr in range(1, p['lf_years']):\n",
    "        ln_wealth_mat[yr, :] = \n",
    "        \n",
    "        ((1 - p['gr']/4) * (np.log(p['w0']) + p['ms'] * (yr)) +\n",
    "                                p['ir']/4 * ln_wealth_mat[yr - 1, :]  +\n",
    "                                np.log(p['inc']/1000+(p['inc']/10000*yr)) +\n",
    "                                pareto_errors[yr, :])\n",
    "\n",
    "\n",
    "    wealth_mat = np.exp(ln_wealth_mat) #dealing with large numbers so put in terms of 10k's\n",
    "    return wealth_mat"
   ]
  },
  {
   "cell_type": "code",
   "execution_count": null,
   "metadata": {},
   "outputs": [],
   "source": [
    "plt.hist(wealth_mat[0,:], bins=50)\n",
    "plt.xlabel(\"Wealth Distribution\")\n",
    "plt.title(\"Number of Respondents in Wealth Bins\")"
   ]
  },
  {
   "cell_type": "code",
   "execution_count": null,
   "metadata": {},
   "outputs": [],
   "source": []
  }
 ],
 "metadata": {
  "kernelspec": {
   "display_name": "Python 3",
   "language": "python",
   "name": "python3"
  },
  "language_info": {
   "codemirror_mode": {
    "name": "ipython",
    "version": 3
   },
   "file_extension": ".py",
   "mimetype": "text/x-python",
   "name": "python",
   "nbconvert_exporter": "python",
   "pygments_lexer": "ipython3",
   "version": "3.6.5"
  }
 },
 "nbformat": 4,
 "nbformat_minor": 2
}
