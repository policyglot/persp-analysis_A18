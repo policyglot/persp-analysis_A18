{
 "cells": [
  {
   "cell_type": "markdown",
   "metadata": {},
   "source": [
    "### Q1 Simulation in Sociology"
   ]
  },
  {
   "cell_type": "markdown",
   "metadata": {},
   "source": []
  },
  {
   "cell_type": "code",
   "execution_count": 17,
   "metadata": {},
   "outputs": [],
   "source": [
    "import scipy.stats as sts\n",
    "import numpy as np\n",
    "import matplotlib.pyplot as plt\n",
    "from matplotlib.ticker import MultipleLocator\n",
    "#data= sts.norms.rvs(means, std, size)"
   ]
  },
  {
   "cell_type": "code",
   "execution_count": 23,
   "metadata": {},
   "outputs": [],
   "source": [
    "def inc_sim(profile):\n",
    "\n",
    "    #set random seed\n",
    "    np.random.seed(333)\n",
    "\n",
    "    #create a matrix of lognormally distributed errors, all of the same dimension as number of years* number of simulations\n",
    "    errors = np.random.lognormal(0, p['stddev'] ,(p['lf_years'], p['num_draws']))\n",
    "    \n",
    "    #define the initial term\n",
    "    base= np.log(p['inc'])\n",
    "    \n",
    "    #create an initial matrix of dim (lf_years, num_draws) (same as that of errors)\n",
    "    ln_inc_mat = np.zeros((p['lf_years'], p['num_draws']))\n",
    "\n",
    "    #fill the first row of the matrix with simulations for the first year\n",
    "    ln_inc_mat[0, :] = base + errors[0, :]\n",
    "\n",
    "    #loop and apply model to the remaining rows\n",
    "    for t in range(1, p['lf_years']):\n",
    "        ln_inc_mat[t, :] = (1-p['rho'])*(base+ (p['g']*t)+p['rho']*ln_inc_mat[t - 1, :]+errors[t, : ]\n",
    "\n",
    "    \n",
    "    return ln_inc_mat\n",
    "\n"
   ]
  },
  {
   "cell_type": "code",
   "execution_count": 24,
   "metadata": {},
   "outputs": [],
   "source": [
    "p = {   'inc'         : 80000,      #starting income\n",
    "        'stddev'      : 0.13,       #standard deviation\n",
    "        'rho'         : 0.4,        #persist rate\n",
    "        'g'           : 0.025,      #growth rate\n",
    "        'st_year'     : int(2020),  #start year\n",
    "        'lf_years'    : 40,         #years to live        \n",
    "        'num_draws'   : 10000       #simulations\n",
    "    }\n",
    "    "
   ]
  },
  {
   "cell_type": "code",
   "execution_count": 29,
   "metadata": {},
   "outputs": [
    {
     "name": "stdout",
     "output_type": "stream",
     "text": [
      "[[ 12.53989493  12.33289556  12.22995561 ...  12.20935708  12.64102122\n",
      "   12.36883419]\n",
      " [-17.55918202 -17.59897597 -17.59639085 ... -17.47300286 -17.26675032\n",
      "  -17.55863977]\n",
      " [-29.24383068 -29.30118959 -29.76957467 ... -29.58390857 -29.58489666\n",
      "  -29.57088997]\n",
      " ...\n",
      " [-36.72385558 -36.67261523 -36.76959069 ... -36.59959415 -36.47552469\n",
      "  -36.47417781]\n",
      " [-36.73305694 -36.79755537 -36.6821253  ... -36.63412224 -36.47388555\n",
      "  -36.48231989]\n",
      " [-36.46762166 -36.71648523 -36.73862232 ... -36.84495024 -36.5329815\n",
      "  -36.62646035]]\n"
     ]
    }
   ],
   "source": [
    "ln_inc_mat=inc_sim(p)\n",
    "print(ln_inc_mat)"
   ]
  },
  {
   "cell_type": "code",
   "execution_count": 30,
   "metadata": {},
   "outputs": [
    {
     "data": {
      "text/plain": [
       "array([ 12.53989493, -17.55918202, -29.24383068, -34.18344489,\n",
       "       -36.02803425, -37.09081387, -37.23265371, -37.44733057,\n",
       "       -37.33863088, -37.15229314, -37.18581782, -37.32211984,\n",
       "       -37.24096396, -37.34376054, -37.06670613, -37.09366899,\n",
       "       -37.07933049, -36.90004871, -37.00621118, -37.06453086,\n",
       "       -36.731435  , -37.02305018, -37.13926806, -37.07367396,\n",
       "       -36.93803367, -37.04601599, -36.93560066, -37.05202628,\n",
       "       -36.85222217, -36.79067755, -36.84379027, -36.88008748,\n",
       "       -36.90373947, -36.87782334, -36.76079334, -36.70268619,\n",
       "       -36.84291218, -36.72385558, -36.73305694, -36.46762166])"
      ]
     },
     "execution_count": 30,
     "metadata": {},
     "output_type": "execute_result"
    }
   ],
   "source": [
    "ln_inc_mat[:, 0]"
   ]
  },
  {
   "cell_type": "code",
   "execution_count": null,
   "metadata": {},
   "outputs": [],
   "source": [
    "ln_inc_mat"
   ]
  },
  {
   "cell_type": "code",
   "execution_count": 32,
   "metadata": {},
   "outputs": [
    {
     "data": {
      "text/plain": [
       "Text(0.5,1,'Number of Respondents in Wealth Bins')"
      ]
     },
     "execution_count": 32,
     "metadata": {},
     "output_type": "execute_result"
    },
    {
     "data": {
      "image/png": "[encoded data removed]",
      "text/plain": [
       "<Figure size 432x288 with 1 Axes>"
      ]
     },
     "metadata": {},
     "output_type": "display_data"
    }
   ],
   "source": [
    "plt.hist(np.exp(ln_inc_mat[0,:]), bins=50)\n",
    "plt.xlabel(\"Wealth Distribution\")\n",
    "plt.title(\"Number of Respondents in Wealth Bins\")"
   ]
  },
  {
   "cell_type": "code",
   "execution_count": null,
   "metadata": {},
   "outputs": [],
   "source": []
  },
  {
   "cell_type": "markdown",
   "metadata": {},
   "source": [
    "### Part d) Changes in Initial Income and Variability"
   ]
  },
  {
   "cell_type": "code",
   "execution_count": null,
   "metadata": {},
   "outputs": [],
   "source": [
    "p_new = {'inc'         : 80000,      #starting income\n",
    "        'stddev'      : 0.17,       #standard deviation\n",
    "        'rho'         : 0.4,        #persist rate\n",
    "        'g'           : 0.025,      #growth rate\n",
    "        'st_year'     : int(2020),  #start year\n",
    "        'lf_years'    : 40,         #years to live        \n",
    "        'num_draws'   : 10000       #simulations\n",
    "    }\n",
    "    "
   ]
  }
 ],
 "metadata": {
  "kernelspec": {
   "display_name": "Python 3",
   "language": "python",
   "name": "python3"
  },
  "language_info": {
   "codemirror_mode": {
    "name": "ipython",
    "version": 3
   },
   "file_extension": ".py",
   "mimetype": "text/x-python",
   "name": "python",
   "nbconvert_exporter": "python",
   "pygments_lexer": "ipython3",
   "version": "3.6.5"
  }
 },
 "nbformat": 4,
 "nbformat_minor": 2
}
